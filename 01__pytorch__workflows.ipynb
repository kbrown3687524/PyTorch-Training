{
 "cells": [
  {
   "cell_type": "markdown",
   "metadata": {},
   "source": [
    "# PyTorch Workflows\n",
    "\n",
    "Let's explore a example of PyTorch end-end-workflow\n"
   ]
  },
  {
   "cell_type": "code",
   "execution_count": 1,
   "metadata": {},
   "outputs": [],
   "source": [
    "import torch\n",
    "import numpy as np\n",
    "from torch import nn # contains all of pytorch building blocks for neural networks\n",
    "import matplotlib.pyplot as plt\n",
    "\n",
    "torch.__version__\n",
    "device = \"cuda\" if torch.cuda.is_available () else \"cpu\""
   ]
  },
  {
   "cell_type": "code",
   "execution_count": 2,
   "metadata": {},
   "outputs": [
    {
     "data": {
      "text/plain": [
       "{1: 'data (prepare adn load)',\n",
       " 2: 'build a model',\n",
       " 3: 'fitting the model to the data',\n",
       " 4: 'making predictions and evaluating the model (inference)',\n",
       " 5: 'saving and loading the model',\n",
       " 6: 'Assembly'}"
      ]
     },
     "execution_count": 2,
     "metadata": {},
     "output_type": "execute_result"
    }
   ],
   "source": [
    "\n",
    "what_we_cover = {1: \"data (prepare adn load)\",\n",
    "                 2: \"build a model\",\n",
    "                 3: \"fitting the model to the data\",\n",
    "                 4: \"making predictions and evaluating the model (inference)\",\n",
    "                 5: \"saving and loading the model\",\n",
    "                 6: \"Assembly\"}\n",
    "\n",
    "\n",
    "what_we_cover"
   ]
  },
  {
   "cell_type": "markdown",
   "metadata": {},
   "source": [
    "## Data (preparing and loading)\n",
    "\n",
    "Data can be almost anything in ML:\n",
    "\n",
    "* Excel spreadsheet\n",
    "* Images\n",
    "* Videos\n",
    "* Audio\n",
    "* DNA\n",
    "* Text\n",
    "\n",
    "Machine Learning (ML) is a game of 2 parts:\n",
    "1. Get data into numerical representation\n",
    "2. Build a model to learn patterns in numerical representation\n",
    "\n",
    "Let's create some known data using the linear regression formulae\n",
    "\n",
    "Use of linear regression formulae to form a straight line with known **parameters**"
   ]
  },
  {
   "cell_type": "code",
   "execution_count": 3,
   "metadata": {},
   "outputs": [
    {
     "data": {
      "text/plain": [
       "(tensor([[0.0000],\n",
       "         [0.0200],\n",
       "         [0.0400],\n",
       "         [0.0600],\n",
       "         [0.0800],\n",
       "         [0.1000],\n",
       "         [0.1200],\n",
       "         [0.1400],\n",
       "         [0.1600],\n",
       "         [0.1800]]),\n",
       " tensor([[0.3000],\n",
       "         [0.3140],\n",
       "         [0.3280],\n",
       "         [0.3420],\n",
       "         [0.3560],\n",
       "         [0.3700],\n",
       "         [0.3840],\n",
       "         [0.3980],\n",
       "         [0.4120],\n",
       "         [0.4260]]))"
      ]
     },
     "execution_count": 3,
     "metadata": {},
     "output_type": "execute_result"
    }
   ],
   "source": [
    "# create a *known* parameters\n",
    "\n",
    "weight = 0.7\n",
    "bias = 0.3\n",
    "\n",
    "# Create data\n",
    "\n",
    "start = 0\n",
    "end  = 1\n",
    "step = 0.02\n",
    "X = torch.arange(start, end, step).unsqueeze(dim=1)\n",
    "y = weight * X + bias\n",
    "\n",
    "X[:10], y[:10]"
   ]
  },
  {
   "cell_type": "code",
   "execution_count": 4,
   "metadata": {},
   "outputs": [
    {
     "data": {
      "text/plain": [
       "(50, 50)"
      ]
     },
     "execution_count": 4,
     "metadata": {},
     "output_type": "execute_result"
    }
   ],
   "source": [
    "len(X), len(y)"
   ]
  },
  {
   "cell_type": "markdown",
   "metadata": {},
   "source": [
    "### Split data into training and test sets (super significant)\n",
    "\n",
    "1. Training set `-->` equivalent to the course material provided by a lecturer (always needed)\n",
    "2. Validation set `-->` equivalent to the course exercise provided by a lecturer (often not always needed)\n",
    "3. Test set `-->` equivalent to the final examination provided by a lecturer (always needed)"
   ]
  },
  {
   "cell_type": "code",
   "execution_count": 5,
   "metadata": {},
   "outputs": [
    {
     "data": {
      "text/plain": [
       "(40, 40, 10, 10)"
      ]
     },
     "execution_count": 5,
     "metadata": {},
     "output_type": "execute_result"
    }
   ],
   "source": [
    "# create a training-test split of the data\n",
    "\n",
    "train_split = int(0.8 * len(X))\n",
    "X_train, y_train = X[:train_split], y[:train_split]\n",
    "X_test, y_test = X[train_split:], y[train_split:]\n",
    "\n",
    "len(X_train), len(y_train), len(X_test), len(y_test)"
   ]
  },
  {
   "cell_type": "markdown",
   "metadata": {},
   "source": [
    "How to betetr vizualize our data?\n",
    "\n",
    "\"Vizualize, Vizualize, Vizualize!\""
   ]
  },
  {
   "cell_type": "code",
   "execution_count": 6,
   "metadata": {},
   "outputs": [],
   "source": [
    "def plot_predictions(train_data=X_train,\n",
    "                    train_labels=y_train,\n",
    "                    test_data=X_test,\n",
    "                    test_labels=y_test,\n",
    "                    predictions=None):\n",
    "\n",
    "    \"\"\"\n",
    "    Plots training data, test data, and compares predictions\n",
    "    \"\"\"\n",
    "    plt.figure(figsize=(10,7))\n",
    "\n",
    "    #plot training data in blue\n",
    "\n",
    "    plt.scatter(train_data, train_labels, c='b', s=4, label=\"Training Data\")\n",
    "\n",
    "    # plot test data in green\n",
    "\n",
    "    plt.scatter(test_data, test_labels, c='g', s=4, label=\"Test Data\")\n",
    "\n",
    "    #Are there predictions\n",
    "\n",
    "    if predictions is not None:\n",
    "        #plot the predictions if they exist\n",
    "        plt.scatter(test_data, predictions, c='r', s=4, label='Predictions')\n",
    "    \n",
    "    # show legends\n",
    "    plt.legend(prop={'size':14});"
   ]
  },
  {
   "cell_type": "code",
   "execution_count": 7,
   "metadata": {},
   "outputs": [
    {
     "data": {
      "image/png": "[encoded data removed]",
      "text/plain": [
       "<Figure size 1000x700 with 1 Axes>"
      ]
     },
     "metadata": {},
     "output_type": "display_data"
    }
   ],
   "source": [
    "plot_predictions()"
   ]
  },
  {
   "cell_type": "markdown",
   "metadata": {},
   "source": [
    "## Building our first PyTorch Model\n",
    "\n",
    "What our model does:\n",
    "\n",
    "* Start with random values (weight and bias)\n",
    "* Look at training data and adjust random values to represent idea values for weight and bias\n",
    "\n",
    "How does it work using algorithms:\n",
    "\n",
    "1. Uses gradient descent\n",
    "2. Backpropagation\n",
    "\n"
   ]
  },
  {
   "cell_type": "markdown",
   "metadata": {},
   "source": [
    "### PyTorch Model Essentials\n",
    "\n",
    "* `torch.nn` - contains all of the building blocks for computational graphs (neural network in this case)\n",
    "* `torch.nn.parameter` - what paramaters should our model try and learn, often a PyTorch Layer from torch.nn will set it for us\n",
    "* `torch.nn.Module` - base class for all NN modules, if subclassed the forward should be overwritten\n",
    "* `torch.optim` - where optimizer in PyTorch live, assissting with gradient descent\n",
    "* `def forward()` all nn.Module subclasses require you to overwrite `forward()`, this method defines the forward computations"
   ]
  },
  {
   "cell_type": "code",
   "execution_count": 8,
   "metadata": {},
   "outputs": [],
   "source": [
    "# use pure pytorch top create linear regresseion model class\n",
    "\n",
    "class LinearRegressionModel(nn.Module): # almost everything in PyTorch inherits from nn.Module\n",
    "    def __init__(self):\n",
    "        super().__init__()\n",
    "        self.weight = nn.Parameter(torch.randn(1,                           # start with a random weight and try to adjust it to an ideal weight\n",
    "                                                requires_grad = True,       # executes the gradient descent algorithm in the background\n",
    "                                                dtype=torch.float))         # Adjust to PyTorch float32\n",
    "\n",
    "        self.bias = nn.Parameter(torch.randn(1,                             # start with a random bias and try to adjust it to an ideal bias\n",
    "                                            requires_grad=True,\n",
    "                                            dtype=torch.float))\n",
    "    # forward() defines the computation in the model\n",
    "\n",
    "    def forward(self, x: torch.Tensor) -> torch.Tensor:\n",
    "        return self.weight * x + self.bias                                  # this is the linear regression model"
   ]
  },
  {
   "cell_type": "markdown",
   "metadata": {},
   "source": [
    "### Checking the contents of the PyTorch Model\n",
    "\n",
    "Investuigate the contents of a PyTorch module using `.parameters()`."
   ]
  },
  {
   "cell_type": "code",
   "execution_count": 9,
   "metadata": {},
   "outputs": [
    {
     "data": {
      "text/plain": [
       "[Parameter containing:\n",
       " tensor([0.3367], requires_grad=True),\n",
       " Parameter containing:\n",
       " tensor([0.1288], requires_grad=True)]"
      ]
     },
     "execution_count": 9,
     "metadata": {},
     "output_type": "execute_result"
    }
   ],
   "source": [
    "torch.manual_seed(42)\n",
    "\n",
    "# create an instance of the model\n",
    "\n",
    "model_0 = LinearRegressionModel()\n",
    "\n",
    "# investigate the parameters\n",
    "list(model_0.parameters())"
   ]
  },
  {
   "cell_type": "code",
   "execution_count": 10,
   "metadata": {},
   "outputs": [
    {
     "data": {
      "text/plain": [
       "OrderedDict([('weight', tensor([0.3367])), ('bias', tensor([0.1288]))])"
      ]
     },
     "execution_count": 10,
     "metadata": {},
     "output_type": "execute_result"
    }
   ],
   "source": [
    "# list the names parameters\n",
    "\n",
    "model_0.state_dict()"
   ]
  },
  {
   "cell_type": "markdown",
   "metadata": {},
   "source": [
    "### Make a prediction using `torch.inference_mode()`\n",
    "\n",
    "To check the models predictive power, let's see how well is predicts 'y' based on 'x'\n",
    "\n",
    "When we pass data through our model, its going to run the forward() method"
   ]
  },
  {
   "cell_type": "code",
   "execution_count": 11,
   "metadata": {},
   "outputs": [
    {
     "data": {
      "text/plain": [
       "(tensor([[0.3982],\n",
       "         [0.4049],\n",
       "         [0.4116],\n",
       "         [0.4184],\n",
       "         [0.4251],\n",
       "         [0.4318],\n",
       "         [0.4386],\n",
       "         [0.4453],\n",
       "         [0.4520],\n",
       "         [0.4588]]),\n",
       " tensor([[0.8600],\n",
       "         [0.8740],\n",
       "         [0.8880],\n",
       "         [0.9020],\n",
       "         [0.9160],\n",
       "         [0.9300],\n",
       "         [0.9440],\n",
       "         [0.9580],\n",
       "         [0.9720],\n",
       "         [0.9860]]))"
      ]
     },
     "execution_count": 11,
     "metadata": {},
     "output_type": "execute_result"
    }
   ],
   "source": [
    "with torch.inference_mode():\n",
    "    y_preds = model_0(X_test)\n",
    "\n",
    "y_preds, y_test"
   ]
  },
  {
   "cell_type": "code",
   "execution_count": 12,
   "metadata": {},
   "outputs": [
    {
     "data": {
      "image/png": "[encoded data removed]",
      "text/plain": [
       "<Figure size 1000x700 with 1 Axes>"
      ]
     },
     "metadata": {},
     "output_type": "display_data"
    }
   ],
   "source": [
    "plot_predictions(predictions=y_preds)"
   ]
  },
  {
   "cell_type": "markdown",
   "metadata": {},
   "source": [
    "## Training Model\n",
    "\n",
    "The whole idea of training is for the model to move from some *unknown* parameters (these must be random) to some *known* parameters\n",
    "\n",
    "One way to measure the quality of the prediction of the model is to use a loss function\n",
    "\n",
    "* Note: Loss or cost fucntioin or criterion (usually refer to as loss function)\n",
    "\n",
    "Things that need training:\n",
    "\n",
    "* **Loss fucntion:** A fucntion to measure how wrong the models predictions are to the ideal outputs --> lower is better\n",
    "* **Optimizer:** A fucntion which takes into account the loss of a model and adjusts the parameters (eg. weight and bias)\n",
    "\n",
    "Specifically for PyTorch:\n",
    "\n",
    "* A training loop\n",
    "* A testing loop"
   ]
  },
  {
   "cell_type": "code",
   "execution_count": 13,
   "metadata": {},
   "outputs": [
    {
     "data": {
      "text/plain": [
       "[Parameter containing:\n",
       " tensor([0.3367], requires_grad=True),\n",
       " Parameter containing:\n",
       " tensor([0.1288], requires_grad=True)]"
      ]
     },
     "execution_count": 13,
     "metadata": {},
     "output_type": "execute_result"
    }
   ],
   "source": [
    "list(model_0.parameters())"
   ]
  },
  {
   "cell_type": "code",
   "execution_count": 14,
   "metadata": {},
   "outputs": [
    {
     "data": {
      "text/plain": [
       "OrderedDict([('weight', tensor([0.3367])), ('bias', tensor([0.1288]))])"
      ]
     },
     "execution_count": 14,
     "metadata": {},
     "output_type": "execute_result"
    }
   ],
   "source": [
    "model_0.state_dict()"
   ]
  },
  {
   "cell_type": "markdown",
   "metadata": {},
   "source": [
    "## Implementing Loss Functions and Optimizers\n",
    "\n",
    "* Use of Mean Absolute Error (MAE) - calculate the absolute difference between each of the points and calculate mean thereof\n",
    "* Use of Stochastic Gradient Descent (SGD) - optimize the weights based on the loss function\n",
    "* Params (`model_0.parameters`) is an argument that is needed for the optimizer and is retrieved from the model that's created\n",
    "* lr = learning rate --> possibly most important hyperparameter"
   ]
  },
  {
   "cell_type": "code",
   "execution_count": 15,
   "metadata": {},
   "outputs": [],
   "source": [
    "# Setup a loss function\n",
    "loss_fn = nn.L1Loss()\n",
    "\n",
    "# Setup an optimizer function\n",
    "optimizer = torch.optim.SGD(model_0.parameters(),   \n",
    "                            lr=0.01)                "
   ]
  },
  {
   "cell_type": "markdown",
   "metadata": {},
   "source": [
    "## Building a Training and Testing Loop in PyTorch\n",
    "\n",
    "A couple of steps are needed:\n",
    "\n",
    "1. Loop through the data\n",
    "2. Forward pass: this involves data moving through the models forward fucntion(s) - a.k.a forward propagation\n",
    "3. Calculate the Loss: Compare the forward pass predictions to ground truth labels\n",
    "4. Optimnizer zero grad'\n",
    "5. Loss backward: move backwards through network to calculate gradient of gradients of each parameter with respect to lost (**backpropagation**)\n",
    "6. Optimizer step: use optimizer to adjust the models parameters to try and improve loss (**gradient descent**)\n",
    "\n"
   ]
  },
  {
   "cell_type": "code",
   "execution_count": 16,
   "metadata": {},
   "outputs": [
    {
     "name": "stdout",
     "output_type": "stream",
     "text": [
      "Loss: 0.31288138031959534\n",
      "OrderedDict({'weight': tensor([0.3406]), 'bias': tensor([0.1388])})\n"
     ]
    }
   ],
   "source": [
    "torch.manual_seed(42)\n",
    "# An epoch is 1 loop through the data - hyperparameter set by ourselves\n",
    "epochs = 1\n",
    "\n",
    "\n",
    "# 1. Loop through the data\n",
    "for epoch in range(epochs):\n",
    "    # set the model to training mode (multiple modes)\n",
    "    model_0.train()     # train mode in PyTorch sets all parameters that requires gradients require gradients\n",
    "    \n",
    "    # 2. Forward pass\n",
    "    y_pred = model_0(X_train)\n",
    "\n",
    "    # 3. Calculate loss\n",
    "    loss = loss_fn(y_pred,y_train)\n",
    "    print(f\"Loss: {loss}\")\n",
    "\n",
    "    # 4. Optimizer zero grad\n",
    "    optimizer.zero_grad()\n",
    "\n",
    "    # 5. Perform backpropagation on the loss with respect to the parameters of the models\n",
    "    loss.backward()\n",
    "\n",
    "    # 6. Step the optimizer (perform gradient descent)\n",
    "    optimizer.step()    # by default how the optimizer changes will calculate through the loop .. we have to zerothem above in step 4\n",
    "\n",
    "\n",
    "model_0.eval()      # turns off gradient tracking\n",
    "\n",
    "print(model_0.state_dict())    "
   ]
  },
  {
   "cell_type": "code",
   "execution_count": 17,
   "metadata": {},
   "outputs": [],
   "source": [
    "with torch.inference_mode():\n",
    "    y_preds_new = model_0(X_test)"
   ]
  },
  {
   "cell_type": "code",
   "execution_count": 18,
   "metadata": {},
   "outputs": [
    {
     "data": {
      "image/png": "[encoded data removed]",
      "text/plain": [
       "<Figure size 1000x700 with 1 Axes>"
      ]
     },
     "metadata": {},
     "output_type": "display_data"
    }
   ],
   "source": [
    "plot_predictions(predictions=y_preds_new)"
   ]
  },
  {
   "cell_type": "code",
   "execution_count": 19,
   "metadata": {},
   "outputs": [
    {
     "name": "stdout",
     "output_type": "stream",
     "text": [
      "Epoch: 0 | Test Loss: 0.4675942063331604 | Loss 0.3013603389263153\n",
      "OrderedDict({'weight': tensor([0.3445]), 'bias': tensor([0.1488])})\n",
      "Epoch: 10 | Test Loss: 0.3328842222690582 | Loss 0.18615034222602844\n",
      "OrderedDict({'weight': tensor([0.3835]), 'bias': tensor([0.2488])})\n",
      "Epoch: 20 | Test Loss: 0.2069590985774994 | Loss 0.08227583020925522\n",
      "OrderedDict({'weight': tensor([0.4222]), 'bias': tensor([0.3403])})\n",
      "Epoch: 30 | Test Loss: 0.14023718237876892 | Loss 0.05181945487856865\n",
      "OrderedDict({'weight': tensor([0.4539]), 'bias': tensor([0.3788])})\n",
      "Epoch: 40 | Test Loss: 0.11182951927185059 | Loss 0.04503796249628067\n",
      "OrderedDict({'weight': tensor([0.4768]), 'bias': tensor([0.3868])})\n",
      "Epoch: 50 | Test Loss: 0.09809747338294983 | Loss 0.04132963344454765\n",
      "OrderedDict({'weight': tensor([0.4956]), 'bias': tensor([0.3838])})\n",
      "Epoch: 60 | Test Loss: 0.08776430785655975 | Loss 0.03785243630409241\n",
      "OrderedDict({'weight': tensor([0.5134]), 'bias': tensor([0.3783])})\n",
      "Epoch: 70 | Test Loss: 0.0794917643070221 | Loss 0.03441363573074341\n",
      "OrderedDict({'weight': tensor([0.5306]), 'bias': tensor([0.3713])})\n",
      "Epoch: 80 | Test Loss: 0.07190609723329544 | Loss 0.030979642644524574\n",
      "OrderedDict({'weight': tensor([0.5475]), 'bias': tensor([0.3638])})\n",
      "Epoch: 90 | Test Loss: 0.06363357603549957 | Loss 0.02754882536828518\n",
      "OrderedDict({'weight': tensor([0.5647]), 'bias': tensor([0.3568])})\n",
      "Epoch: 100 | Test Loss: 0.05536102131009102 | Loss 0.024110013619065285\n",
      "OrderedDict({'weight': tensor([0.5818]), 'bias': tensor([0.3498])})\n",
      "Epoch: 110 | Test Loss: 0.04777535796165466 | Loss 0.020677709951996803\n",
      "OrderedDict({'weight': tensor([0.5988]), 'bias': tensor([0.3423])})\n",
      "Epoch: 120 | Test Loss: 0.0395028181374073 | Loss 0.017245199531316757\n",
      "OrderedDict({'weight': tensor([0.6159]), 'bias': tensor([0.3353])})\n",
      "Epoch: 130 | Test Loss: 0.031230276450514793 | Loss 0.013806397095322609\n",
      "OrderedDict({'weight': tensor([0.6331]), 'bias': tensor([0.3283])})\n",
      "Epoch: 140 | Test Loss: 0.023644620552659035 | Loss 0.010375778190791607\n",
      "OrderedDict({'weight': tensor([0.6501]), 'bias': tensor([0.3208])})\n",
      "Epoch: 150 | Test Loss: 0.0153720797970891 | Loss 0.006941580679267645\n",
      "OrderedDict({'weight': tensor([0.6672]), 'bias': tensor([0.3138])})\n",
      "Epoch: 160 | Test Loss: 0.007099539041519165 | Loss 0.0035027749836444855\n",
      "OrderedDict({'weight': tensor([0.6844]), 'bias': tensor([0.3068])})\n",
      "Epoch: 170 | Test Loss: 0.008447891101241112 | Loss 0.0025885067880153656\n",
      "OrderedDict({'weight': tensor([0.6990]), 'bias': tensor([0.3093])})\n",
      "Epoch: 180 | Test Loss: 0.008447891101241112 | Loss 0.0025885067880153656\n",
      "OrderedDict({'weight': tensor([0.6990]), 'bias': tensor([0.3093])})\n",
      "Epoch: 190 | Test Loss: 0.008447891101241112 | Loss 0.0025885067880153656\n",
      "OrderedDict({'weight': tensor([0.6990]), 'bias': tensor([0.3093])})\n"
     ]
    },
    {
     "data": {
      "image/png": "[encoded data removed]",
      "text/plain": [
       "<Figure size 1000x700 with 1 Axes>"
      ]
     },
     "metadata": {},
     "output_type": "display_data"
    }
   ],
   "source": [
    "# redo the previous code to generate the model using 100 epochs instead\n",
    "\n",
    "torch.manual_seed(42)\n",
    "epoch_count = []\n",
    "loss_values = []\n",
    "test_loss_count = []\n",
    "\n",
    "epochs_new = 200\n",
    "# training model\n",
    "for epoch_new in range(epochs_new):\n",
    "    model_0.train()\n",
    "    y_preds_2 = model_0(X_train)\n",
    "    loss = loss_fn(y_preds_2,y_train)\n",
    "    optimizer.zero_grad()\n",
    "    loss.backward()\n",
    "    optimizer.step()\n",
    "    model_0.eval()  # turns off different settings in the model not needed for evaluations (dropout/ batchnorm layers)\n",
    "\n",
    "    # testing the model\n",
    "    with torch.inference_mode():    # turns off gradient tracking\n",
    "        test_pred = model_0(X_test)\n",
    "        test_loss = loss_fn(test_pred, y_test)\n",
    "    if epoch_new % 10 ==0:\n",
    "        epoch_count.append(epoch_new)\n",
    "        loss_values.append(loss)\n",
    "        test_loss_count.append(test_loss)\n",
    "        print(f\"Epoch: {epoch_new} | Test Loss: {test_loss} | Loss {loss}\")\n",
    "        print(model_0.state_dict())\n",
    "plot_predictions(predictions=test_pred)"
   ]
  },
  {
   "cell_type": "code",
   "execution_count": 20,
   "metadata": {},
   "outputs": [
    {
     "data": {
      "text/plain": [
       "<matplotlib.legend.Legend at 0x1e1045d3320>"
      ]
     },
     "execution_count": 20,
     "metadata": {},
     "output_type": "execute_result"
    },
    {
     "data": {
      "image/png": "[encoded data removed]",
      "text/plain": [
       "<Figure size 640x480 with 1 Axes>"
      ]
     },
     "metadata": {},
     "output_type": "display_data"
    }
   ],
   "source": [
    "# Plot the loss curves for both the training and the test curves\n",
    "plt.plot(epoch_count, np.array(torch.tensor(loss_values).numpy()), label=\"Train Loss\")\n",
    "plt.plot(epoch_count, test_loss_count, label=\"Test Loss\")\n",
    "plt.title(\"Training and Test Loss Curve\")\n",
    "plt.xlabel(\"Loss\")\n",
    "plt.ylabel(\"Epochs\")\n",
    "plt.legend()\n"
   ]
  },
  {
   "cell_type": "markdown",
   "metadata": {},
   "source": [
    "## Saving a model in PyTorch\n",
    "\n",
    "3 main methods for saving and loading models in PyTorch:\n",
    "1. `torch.save()` - allows you to save torch object in Pythons pickle format\n",
    "2. `torch.load()` - allows you to load a saved PyTorch object\n",
    "3. `torch.nn.Module.load_state_dict()` - allows you to load a models saved state dictionary"
   ]
  },
  {
   "cell_type": "code",
   "execution_count": 21,
   "metadata": {},
   "outputs": [
    {
     "name": "stdout",
     "output_type": "stream",
     "text": [
      "Saving model to: models\\01_pythorch_workflow_model_0.pth\n"
     ]
    }
   ],
   "source": [
    "# save the entire model using torch.save()\n",
    "from pathlib import Path\n",
    "\n",
    "\n",
    "# 1. create model directory\n",
    "MODEL_PATH = Path(\"models\")\n",
    "MODEL_PATH.mkdir(parents=True, exist_ok=True)\n",
    "\n",
    "\n",
    "# 2. create model save path\n",
    "MODEL_NAME = \"01_pythorch_workflow_model_0.pth\"\n",
    "MODEL_SAVE_PATH = MODEL_PATH / MODEL_NAME\n",
    "MODEL_SAVE_PATH\n",
    "\n",
    "# 3. Save the model State Dict - recommended way of saving models in python\n",
    "print(f\"Saving model to: {MODEL_SAVE_PATH}\")\n",
    "torch.save(obj=model_0.state_dict(), \n",
    "           f=MODEL_SAVE_PATH)\n"
   ]
  },
  {
   "cell_type": "markdown",
   "metadata": {},
   "source": [
    "## Loading a PyTorch Model\n",
    "\n",
    "Since we saved our models `state_dict()` rather than the entire model, we will need to create a new instance of the model class and load the `state_dict()` into that."
   ]
  },
  {
   "cell_type": "code",
   "execution_count": 22,
   "metadata": {},
   "outputs": [
    {
     "name": "stderr",
     "output_type": "stream",
     "text": [
      "C:\\Users\\kebrown\\AppData\\Local\\Temp\\ipykernel_13040\\780432286.py:6: FutureWarning: You are using `torch.load` with `weights_only=False` (the current default value), which uses the default pickle module implicitly. It is possible to construct malicious pickle data which will execute arbitrary code during unpickling (See https://github.com/pytorch/pytorch/blob/main/SECURITY.md#untrusted-models for more details). In a future release, the default value for `weights_only` will be flipped to `True`. This limits the functions that could be executed during unpickling. Arbitrary objects will no longer be allowed to be loaded via this mode unless they are explicitly allowlisted by the user via `torch.serialization.add_safe_globals`. We recommend you start setting `weights_only=True` for any use case where you don't have full control of the loaded file. Please open an issue on GitHub for any issues related to this experimental feature.\n",
      "  loaded_model_0.load_state_dict(torch.load(f=MODEL_SAVE_PATH))\n"
     ]
    },
    {
     "data": {
      "text/plain": [
       "<All keys matched successfully>"
      ]
     },
     "execution_count": 22,
     "metadata": {},
     "output_type": "execute_result"
    }
   ],
   "source": [
    "# Loading a model by instantiating a new model class\n",
    "\n",
    "loaded_model_0 = LinearRegressionModel()\n",
    "\n",
    "# Load the saved state_dict() of model_0\n",
    "loaded_model_0.load_state_dict(torch.load(f=MODEL_SAVE_PATH))"
   ]
  },
  {
   "cell_type": "code",
   "execution_count": 23,
   "metadata": {},
   "outputs": [
    {
     "data": {
      "text/plain": [
       "OrderedDict([('weight', tensor([0.6951])), ('bias', tensor([0.2993]))])"
      ]
     },
     "execution_count": 23,
     "metadata": {},
     "output_type": "execute_result"
    }
   ],
   "source": [
    "loaded_model_0.state_dict()"
   ]
  },
  {
   "cell_type": "code",
   "execution_count": 24,
   "metadata": {},
   "outputs": [
    {
     "data": {
      "text/plain": [
       "tensor([[0.8554],\n",
       "        [0.8693],\n",
       "        [0.8832],\n",
       "        [0.8971],\n",
       "        [0.9110],\n",
       "        [0.9249],\n",
       "        [0.9388],\n",
       "        [0.9527],\n",
       "        [0.9666],\n",
       "        [0.9805]])"
      ]
     },
     "execution_count": 24,
     "metadata": {},
     "output_type": "execute_result"
    }
   ],
   "source": [
    "# Make some prediction to ensure that the loaded model is running correctly\n",
    "torch.manual_seed(42)\n",
    "loaded_model_0.eval()\n",
    "with torch.inference_mode():\n",
    "    loaded_model_preds = loaded_model_0(X_test)\n",
    "loaded_model_preds"
   ]
  },
  {
   "cell_type": "code",
   "execution_count": 25,
   "metadata": {},
   "outputs": [
    {
     "data": {
      "text/plain": [
       "tensor([[0.8554],\n",
       "        [0.8693],\n",
       "        [0.8832],\n",
       "        [0.8971],\n",
       "        [0.9110],\n",
       "        [0.9249],\n",
       "        [0.9388],\n",
       "        [0.9527],\n",
       "        [0.9666],\n",
       "        [0.9805]])"
      ]
     },
     "execution_count": 25,
     "metadata": {},
     "output_type": "execute_result"
    }
   ],
   "source": [
    "model_0.eval()\n",
    "with torch.inference_mode():\n",
    "    y_preds = model_0(X_test)\n",
    "y_preds"
   ]
  },
  {
   "cell_type": "code",
   "execution_count": 26,
   "metadata": {},
   "outputs": [
    {
     "data": {
      "text/plain": [
       "tensor([[True],\n",
       "        [True],\n",
       "        [True],\n",
       "        [True],\n",
       "        [True],\n",
       "        [True],\n",
       "        [True],\n",
       "        [True],\n",
       "        [True],\n",
       "        [True]])"
      ]
     },
     "execution_count": 26,
     "metadata": {},
     "output_type": "execute_result"
    }
   ],
   "source": [
    "# Compare the loaded model preds with the original model preds\n",
    "y_preds == loaded_model_preds"
   ]
  },
  {
   "cell_type": "markdown",
   "metadata": {},
   "source": [
    "## Putting it all together\n",
    "\n"
   ]
  },
  {
   "cell_type": "code",
   "execution_count": 27,
   "metadata": {},
   "outputs": [
    {
     "data": {
      "text/plain": [
       "'2.5.1+cu121'"
      ]
     },
     "execution_count": 27,
     "metadata": {},
     "output_type": "execute_result"
    }
   ],
   "source": [
    "import torch\n",
    "from torch import nn\n",
    "import matplotlib.pyplot as plt\n",
    "\n",
    "# Check torch version\n",
    "torch.__version__\n"
   ]
  },
  {
   "cell_type": "code",
   "execution_count": 28,
   "metadata": {},
   "outputs": [],
   "source": [
    "# Create device agnostic code\n",
    "\n",
    "device = \"cuda\" if torch.cuda.is_available() else \"cpu\""
   ]
  },
  {
   "cell_type": "markdown",
   "metadata": {},
   "source": [
    "## Data\n"
   ]
  },
  {
   "cell_type": "code",
   "execution_count": 29,
   "metadata": {},
   "outputs": [
    {
     "data": {
      "text/plain": [
       "(tensor([[0.0000],\n",
       "         [0.0200],\n",
       "         [0.0400],\n",
       "         [0.0600],\n",
       "         [0.0800],\n",
       "         [0.1000],\n",
       "         [0.1200],\n",
       "         [0.1400],\n",
       "         [0.1600],\n",
       "         [0.1800]]),\n",
       " tensor([[0.3000],\n",
       "         [0.3140],\n",
       "         [0.3280],\n",
       "         [0.3420],\n",
       "         [0.3560],\n",
       "         [0.3700],\n",
       "         [0.3840],\n",
       "         [0.3980],\n",
       "         [0.4120],\n",
       "         [0.4260]]))"
      ]
     },
     "execution_count": 29,
     "metadata": {},
     "output_type": "execute_result"
    }
   ],
   "source": [
    "# Create some data using linear regression formula of y = weight * X + bias\n",
    "\n",
    "weight = 0.7\n",
    "bias = 0.3\n",
    "\n",
    "# create a range of features\n",
    "\n",
    "start = 0\n",
    "end = 1\n",
    "step = 0.02\n",
    "\n",
    "# Create X and y features (features and labels)\n",
    "X = torch.arange(start, end, step).unsqueeze(dim=1)\n",
    "X[:10], y[:10]"
   ]
  },
  {
   "cell_type": "code",
   "execution_count": 30,
   "metadata": {},
   "outputs": [
    {
     "data": {
      "image/png": "[encoded data removed]",
      "text/plain": [
       "<Figure size 1000x700 with 1 Axes>"
      ]
     },
     "metadata": {},
     "output_type": "display_data"
    }
   ],
   "source": [
    "# Split the data\n",
    "\n",
    "train_split = int(0.8 * len(X))\n",
    "X_train, y_train = X[:train_split], y[:train_split]\n",
    "X_test, y_test = X[train_split:], y[train_split:]\n",
    "len(X_train), len(y_train), len(X_test), len(y_test)\n",
    "\n",
    "plot_predictions(X_train, y_train, X_test, y_test)"
   ]
  },
  {
   "cell_type": "markdown",
   "metadata": {},
   "source": [
    "## Building a PyTorch Linear Model"
   ]
  },
  {
   "cell_type": "code",
   "execution_count": 31,
   "metadata": {},
   "outputs": [
    {
     "data": {
      "text/plain": [
       "(LinearRegressionModelV2(\n",
       "   (linear_layer): Linear(in_features=1, out_features=1, bias=True)\n",
       " ),\n",
       " OrderedDict([('linear_layer.weight', tensor([[0.8555]])),\n",
       "              ('linear_layer.bias', tensor([-0.2062]))]))"
      ]
     },
     "execution_count": 31,
     "metadata": {},
     "output_type": "execute_result"
    }
   ],
   "source": [
    "# create a linear model by subclassing the nn.Module class\n",
    "\n",
    "class LinearRegressionModelV2(nn.Module):\n",
    "    def __init__(self):\n",
    "        super().__init__()\n",
    "        # Use nn.Linear for creating the model parameters/ also known as linear transformation, probing layer\n",
    "        self.linear_layer = nn.Linear(in_features=1,\n",
    "                                      out_features=1)\n",
    "    def forward(self, x: torch.Tensor) -> torch.Tensor:\n",
    "        return self.linear_layer(x)\n",
    "\n",
    "torch.manual_seed(142)\n",
    "model_1 = LinearRegressionModelV2()\n",
    "model_1, model_1.state_dict()"
   ]
  },
  {
   "cell_type": "code",
   "execution_count": 32,
   "metadata": {},
   "outputs": [
    {
     "data": {
      "text/plain": [
       "device(type='cpu')"
      ]
     },
     "execution_count": 32,
     "metadata": {},
     "output_type": "execute_result"
    }
   ],
   "source": [
    "# check the model current device\n",
    "\n",
    "next(model_1.parameters()).device"
   ]
  },
  {
   "cell_type": "code",
   "execution_count": 33,
   "metadata": {},
   "outputs": [
    {
     "data": {
      "text/plain": [
       "device(type='cuda', index=0)"
      ]
     },
     "execution_count": 33,
     "metadata": {},
     "output_type": "execute_result"
    }
   ],
   "source": [
    "# Set the model to use the taregt device\n",
    "model_1.to(device)\n",
    "next(model_1.parameters()).device\n"
   ]
  },
  {
   "cell_type": "markdown",
   "metadata": {},
   "source": [
    "### Training\n",
    "\n",
    "For training we need:\n",
    "* Loss Function - measure how wrong model is\n",
    "* Optimizer - optimizes weights and biases\n",
    "* Training Loop\n",
    "* Test Loop"
   ]
  },
  {
   "cell_type": "code",
   "execution_count": 34,
   "metadata": {},
   "outputs": [
    {
     "name": "stdout",
     "output_type": "stream",
     "text": [
      "Epoch: 0 | Test Loss: 0.35428568720817566 | Loss: 0.44550758600234985\n",
      "Epoch: 10 | Test Loss: 0.21957574784755707 | Loss: 0.3302975594997406\n",
      "Epoch: 20 | Test Loss: 0.08486583083868027 | Loss: 0.2150876373052597\n",
      "Epoch: 30 | Test Loss: 0.04815880209207535 | Loss: 0.10024497658014297\n",
      "Epoch: 40 | Test Loss: 0.10720194876194 | Loss: 0.06254564225673676\n",
      "Epoch: 50 | Test Loss: 0.11994602531194687 | Loss: 0.05600264295935631\n",
      "Epoch: 60 | Test Loss: 0.11788230389356613 | Loss: 0.052246399223804474\n",
      "Epoch: 70 | Test Loss: 0.11304429918527603 | Loss: 0.04872751235961914\n",
      "Epoch: 80 | Test Loss: 0.10545871406793594 | Loss: 0.04528982192277908\n",
      "Epoch: 90 | Test Loss: 0.09718620777130127 | Loss: 0.04186138138175011\n",
      "Epoch: 100 | Test Loss: 0.08891373127698898 | Loss: 0.03842388466000557\n",
      "Epoch: 110 | Test Loss: 0.08132816851139069 | Loss: 0.03498787805438042\n",
      "Epoch: 120 | Test Loss: 0.0730556845664978 | Loss: 0.031559061259031296\n",
      "Epoch: 130 | Test Loss: 0.06478320062160492 | Loss: 0.02812025509774685\n",
      "Epoch: 140 | Test Loss: 0.05719761177897453 | Loss: 0.024685924872756004\n",
      "Epoch: 150 | Test Loss: 0.04892507195472717 | Loss: 0.021255435422062874\n",
      "Epoch: 160 | Test Loss: 0.040652550756931305 | Loss: 0.017816631123423576\n",
      "Epoch: 170 | Test Loss: 0.03306687995791435 | Loss: 0.014383991248905659\n",
      "Epoch: 180 | Test Loss: 0.024794334545731544 | Loss: 0.010951812379062176\n",
      "Epoch: 190 | Test Loss: 0.01652178168296814 | Loss: 0.007513010408729315\n"
     ]
    }
   ],
   "source": [
    "# Setup loss function\n",
    "\n",
    "loss_fn = nn.L1Loss() # same as MAE\n",
    "\n",
    "# Setup optimizer\n",
    "optimizer = torch.optim.SGD(params=model_1.parameters(), \n",
    "                            lr=0.01,)\n",
    "\n",
    "# write a training loop\n",
    "torch.manual_seed(42)\n",
    "epochs = 200\n",
    "\n",
    "# Ensure that thhe data is on the cuda device as well\n",
    "\n",
    "X_train = X_train.to(device)\n",
    "y_train = y_train.to(device)\n",
    "X_test = X_test.to(device)\n",
    "y_test = y_test.to(device)\n",
    "\n",
    "for epoch in range(epochs):\n",
    "    model_1.train()\n",
    "\n",
    "    # 1. Forward pass\n",
    "    y_pred = model_1(X_train)\n",
    "\n",
    "    # 2. Calculate loss\n",
    "    loss = loss_fn(y_pred, y_train)\n",
    "\n",
    "    # 3. Optimizer zero grad\n",
    "    optimizer.zero_grad()\n",
    "\n",
    "    # 4. Perform backpropagation\n",
    "    loss.backward()\n",
    "\n",
    "    # 5. Optimizer step\n",
    "    optimizer.step()\n",
    "\n",
    "    ### Testing\n",
    "    model_1.eval()\n",
    "    with torch.inference_mode():\n",
    "        test_preds = model_1(X_test)\n",
    "        test_loss = loss_fn(test_preds, y_test)\n",
    "\n",
    "    # Print out what's happening\n",
    "\n",
    "    if epoch % 10 == 0:\n",
    "        print(f\"Epoch: {epoch} | Test Loss: {test_loss} | Loss: {loss}\")"
   ]
  },
  {
   "cell_type": "code",
   "execution_count": 35,
   "metadata": {},
   "outputs": [
    {
     "data": {
      "text/plain": [
       "OrderedDict([('linear_layer.weight', tensor([[0.7202]], device='cuda:0')),\n",
       "             ('linear_layer.bias', tensor([0.2913], device='cuda:0'))])"
      ]
     },
     "execution_count": 35,
     "metadata": {},
     "output_type": "execute_result"
    }
   ],
   "source": [
    "model_1.state_dict()\n"
   ]
  },
  {
   "cell_type": "markdown",
   "metadata": {},
   "source": [
    "### Making and evaluating predictions"
   ]
  },
  {
   "cell_type": "code",
   "execution_count": 36,
   "metadata": {},
   "outputs": [
    {
     "data": {
      "text/plain": [
       "tensor([[0.8675],\n",
       "        [0.8819],\n",
       "        [0.8963],\n",
       "        [0.9107],\n",
       "        [0.9251],\n",
       "        [0.9396],\n",
       "        [0.9540],\n",
       "        [0.9684],\n",
       "        [0.9828],\n",
       "        [0.9972]], device='cuda:0')"
      ]
     },
     "execution_count": 36,
     "metadata": {},
     "output_type": "execute_result"
    }
   ],
   "source": [
    "# Turn the model into evaluation mode\n",
    "\n",
    "model_1.eval()\n",
    "\n",
    "# Make some predicitons using the test data\n",
    "with torch.inference_mode():\n",
    "    y_preds = model_1(X_test)\n",
    "y_preds"
   ]
  },
  {
   "cell_type": "code",
   "execution_count": 37,
   "metadata": {},
   "outputs": [
    {
     "data": {
      "image/png": "[encoded data removed]",
      "text/plain": [
       "<Figure size 1000x700 with 1 Axes>"
      ]
     },
     "metadata": {},
     "output_type": "display_data"
    }
   ],
   "source": [
    "# Check out the model predictions visually\n",
    "plot_predictions(predictions=y_preds.cpu())"
   ]
  },
  {
   "cell_type": "markdown",
   "metadata": {},
   "source": [
    "### Saving and loading a trained model"
   ]
  },
  {
   "cell_type": "code",
   "execution_count": 38,
   "metadata": {},
   "outputs": [
    {
     "name": "stdout",
     "output_type": "stream",
     "text": [
      "Saving model to: models\\01_pytorch_workflow_model_1.pth\n"
     ]
    }
   ],
   "source": [
    "from pathlib import Path\n",
    "\n",
    "# 1. Create a model directory\n",
    "\n",
    "MODEL_PATH = Path(\"models\")\n",
    "MODEL_PATH.mkdir(parents=True, exist_ok=True)\n",
    "\n",
    "# 2. Create a model save path\n",
    "MODEL_NAME = \"01_pytorch_workflow_model_1.pth\"\n",
    "MODEL_SAVE_PATH = MODEL_PATH / MODEL_NAME\n",
    "MODEL_SAVE_PATH\n",
    "\n",
    "# 3. Save the model state dict\n",
    "print(f\"Saving model to: {MODEL_SAVE_PATH}\")\n",
    "torch.save(obj=model_1.state_dict(),\n",
    "           f=MODEL_SAVE_PATH)"
   ]
  },
  {
   "cell_type": "code",
   "execution_count": 39,
   "metadata": {},
   "outputs": [
    {
     "name": "stderr",
     "output_type": "stream",
     "text": [
      "C:\\Users\\kebrown\\AppData\\Local\\Temp\\ipykernel_13040\\72488891.py:7: FutureWarning: You are using `torch.load` with `weights_only=False` (the current default value), which uses the default pickle module implicitly. It is possible to construct malicious pickle data which will execute arbitrary code during unpickling (See https://github.com/pytorch/pytorch/blob/main/SECURITY.md#untrusted-models for more details). In a future release, the default value for `weights_only` will be flipped to `True`. This limits the functions that could be executed during unpickling. Arbitrary objects will no longer be allowed to be loaded via this mode unless they are explicitly allowlisted by the user via `torch.serialization.add_safe_globals`. We recommend you start setting `weights_only=True` for any use case where you don't have full control of the loaded file. Please open an issue on GitHub for any issues related to this experimental feature.\n",
      "  loaded_model_1.load_state_dict(torch.load(f=MODEL_SAVE_PATH))\n"
     ]
    },
    {
     "data": {
      "text/plain": [
       "LinearRegressionModelV2(\n",
       "  (linear_layer): Linear(in_features=1, out_features=1, bias=True)\n",
       ")"
      ]
     },
     "execution_count": 39,
     "metadata": {},
     "output_type": "execute_result"
    }
   ],
   "source": [
    "# Load a PyTorch Model\n",
    "\n",
    "# Create a new instance of Linear Regression model V2\n",
    "loaded_model_1 = LinearRegressionModelV2()\n",
    "\n",
    "# Load the saved state dict of model_1\n",
    "loaded_model_1.load_state_dict(torch.load(f=MODEL_SAVE_PATH))\n",
    "\n",
    "# Put the loaded model to the same device\n",
    "loaded_model_1.to(device)"
   ]
  },
  {
   "cell_type": "code",
   "execution_count": 40,
   "metadata": {},
   "outputs": [
    {
     "data": {
      "text/plain": [
       "device(type='cuda', index=0)"
      ]
     },
     "execution_count": 40,
     "metadata": {},
     "output_type": "execute_result"
    }
   ],
   "source": [
    "next(loaded_model_1.parameters()).device"
   ]
  },
  {
   "cell_type": "code",
   "execution_count": 41,
   "metadata": {},
   "outputs": [
    {
     "data": {
      "text/plain": [
       "tensor([[True],\n",
       "        [True],\n",
       "        [True],\n",
       "        [True],\n",
       "        [True],\n",
       "        [True],\n",
       "        [True],\n",
       "        [True],\n",
       "        [True],\n",
       "        [True]], device='cuda:0')"
      ]
     },
     "execution_count": 41,
     "metadata": {},
     "output_type": "execute_result"
    }
   ],
   "source": [
    "# Evaluate the loaded model\n",
    "\n",
    "loaded_model_1.eval()\n",
    "with torch.inference_mode():\n",
    "    loaded_model_preds = loaded_model_1(X_test)\n",
    "y_preds == loaded_model_preds"
   ]
  }
 ],
 "metadata": {
  "kernelspec": {
   "display_name": "Python 3",
   "language": "python",
   "name": "python3"
  },
  "language_info": {
   "codemirror_mode": {
    "name": "ipython",
    "version": 3
   },
   "file_extension": ".py",
   "mimetype": "text/x-python",
   "name": "python",
   "nbconvert_exporter": "python",
   "pygments_lexer": "ipython3",
   "version": "3.12.8"
  }
 },
 "nbformat": 4,
 "nbformat_minor": 2
}
